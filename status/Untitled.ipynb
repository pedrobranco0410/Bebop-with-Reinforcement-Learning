{
 "cells": [
  {
   "cell_type": "code",
   "execution_count": 1,
   "metadata": {},
   "outputs": [
    {
     "name": "stdout",
     "output_type": "stream",
     "text": [
      "hello \n",
      "\n"
     ]
    }
   ],
   "source": [
    "from __future__ import print_function\n",
    "import roslibpy\n",
    "\n",
    "#f= open(\"guru99.txt\",\"w+\")\n",
    "\n",
    "#for i in range(10):\n",
    "#     f.write(\"This is line %d\\r\\n\" % (i+1))\n",
    "\n",
    "#f.close() \n",
    "\n",
    "print('hello \\n')\n",
    "\n",
    "client = roslibpy.Ros(host='localhost', port=9090)\n",
    "client.run()\n",
    "\n"
   ]
  },
  {
   "cell_type": "code",
   "execution_count": 2,
   "metadata": {},
   "outputs": [
    {
     "data": {
      "text/plain": [
       "True"
      ]
     },
     "execution_count": 2,
     "metadata": {},
     "output_type": "execute_result"
    }
   ],
   "source": [
    "client.is_connected "
   ]
  },
  {
   "cell_type": "code",
   "execution_count": 3,
   "metadata": {},
   "outputs": [],
   "source": [
    "listener = roslibpy.Topic(client, '/bebop2/states/common/CommonState/BatteryStateChanged', 'bebop_msgs/CommonCommonStateBatteryStateChanged')\n",
    "#listener = roslibpy.Topic(client, '/bebop2/odom', 'nav_msgs/Odometry')\n",
    "listener.subscribe(lambda data: print(data['data']))\n",
    "\n",
    "try:\n",
    "    while True:\n",
    "        pass\n",
    "except KeyboardInterrupt:\n",
    "    client.terminate()"
   ]
  },
  {
   "cell_type": "code",
   "execution_count": null,
   "metadata": {},
   "outputs": [],
   "source": []
  }
 ],
 "metadata": {
  "kernelspec": {
   "display_name": "Python 3",
   "language": "python",
   "name": "python3"
  },
  "language_info": {
   "codemirror_mode": {
    "name": "ipython",
    "version": 3
   },
   "file_extension": ".py",
   "mimetype": "text/x-python",
   "name": "python",
   "nbconvert_exporter": "python",
   "pygments_lexer": "ipython3",
   "version": "3.6.9"
  }
 },
 "nbformat": 4,
 "nbformat_minor": 4
}
